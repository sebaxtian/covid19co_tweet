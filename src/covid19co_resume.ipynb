{
 "cells": [
  {
   "cell_type": "code",
   "execution_count": 57,
   "metadata": {},
   "outputs": [],
   "source": [
    "# This Python 3 environment comes with many helpful analytics libraries installed\n",
    "# It is defined by the kaggle/python docker image: https://github.com/kaggle/docker-python\n",
    "# For example, here's several helpful packages to load in \n",
    "\n",
    "# Dependencies\n",
    "import numpy as np\n",
    "import pandas as pd\n",
    "import requests\n",
    "import unidecode\n",
    "import datetime\n",
    "import dateutil\n",
    "import subprocess\n",
    "import sys\n",
    "import json\n",
    "import tempfile\n",
    "import os\n",
    "import re\n",
    "\n",
    "# Install missing dependencies\n",
    "def install(package):\n",
    "    subprocess.check_call([sys.executable, \"-m\", \"pip\", \"install\", package])\n",
    "\n",
    "# Input data files are available in the \"../input/\" directory.\n",
    "# For example, running this (by clicking run or pressing Shift+Enter) will list all files under the input directory\n",
    "\n",
    "#for dirname, _, filenames in os.walk('/kaggle/input'):\n",
    "#    for filename in filenames:\n",
    "#        print(os.path.join(dirname, filename))\n",
    "\n",
    "# Any results you write to the current directory are saved as output."
   ]
  },
  {
   "cell_type": "markdown",
   "metadata": {},
   "source": [
    "---"
   ]
  },
  {
   "cell_type": "markdown",
   "metadata": {},
   "source": [
    "## Colombia Covid19 Resume\n",
    "This Notebook creates a new resume dataset, It will be used to post tweets on Twitter each time when there are new updates from datasets in [Kaggle Dataset](https://www.kaggle.com/sebaxtian/covid19co).\n",
    "\n",
    "Dataset obtained from Kaggle after [Colombia Covid19 Pipeline](https://sebaxtian.github.io/colombia_covid_19_pipe) process run and update covid19co Dataset.\n",
    "\n",
    "The number of new cases is increasing day by day around the world.\n",
    "\n",
    "You can get the official dataset here: [INS - Official Report](https://www.datos.gov.co/Salud-y-Protecci-n-Social/Casos-positivos-de-COVID-19-en-Colombia/gt2j-8ykr)"
   ]
  },
  {
   "cell_type": "markdown",
   "metadata": {},
   "source": [
    "---"
   ]
  },
  {
   "cell_type": "markdown",
   "metadata": {},
   "source": [
    "## Datasources"
   ]
  },
  {
   "cell_type": "code",
   "execution_count": 58,
   "metadata": {},
   "outputs": [],
   "source": [
    "# Input data files are available in the \"../kaggle/\" directory.\n",
    "INPUT_DIR = './'\n",
    "if os.path.split(os.path.abspath('.'))[-1] == 'src':\n",
    "    INPUT_DIR = '../kaggle'\n",
    "# Output data files are available in the \"../input/\" directory.\n",
    "OUTPUT_DIR = './'\n",
    "if os.path.split(os.path.abspath('.'))[-1] == 'src':\n",
    "    OUTPUT_DIR = '../input'"
   ]
  },
  {
   "cell_type": "markdown",
   "metadata": {},
   "source": [
    "---"
   ]
  },
  {
   "cell_type": "markdown",
   "metadata": {},
   "source": [
    "## Official Date Report"
   ]
  },
  {
   "cell_type": "code",
   "execution_count": 59,
   "metadata": {},
   "outputs": [
    {
     "output_type": "stream",
     "name": "stdout",
     "text": "Bogota Date: 2020-05-05\nOfficial Date Report: 2020-05-04\n"
    }
   ],
   "source": [
    "# URL Bogota Date\n",
    "URL_BOGOTA_TIME = 'http://worldtimeapi.org/api/timezone/America/Bogota'\n",
    "# Get Bogota Date\n",
    "with requests.get(URL_BOGOTA_TIME) as bogota_time:\n",
    "    bogota_time = bogota_time.json()\n",
    "# Bogota Date\n",
    "#print(bogota_time)\n",
    "bogota_date = datetime.date.fromtimestamp(bogota_time['unixtime']).isoformat()\n",
    "print('Bogota Date:', bogota_date)\n",
    "\n",
    "try:\n",
    "    # URL Date Report\n",
    "    URL_DATE_REPORT = 'https://e.infogram.com/api/live/flex/efcb7f88-4bd0-4e26-a497-14ae28f6d199/a90dbc02-108d-44be-8178-b1eb6ea1fdd9?'\n",
    "    # Get Official Date Report\n",
    "    with requests.get(URL_DATE_REPORT) as official_date_report:\n",
    "        official_date_report = official_date_report.json()\n",
    "    # Official Date Report\n",
    "    #print(official_date_report['data'][0][1][0])\n",
    "    official_date_report = official_date_report['data'][0][1][0]\n",
    "    #print(official_date_report)\n",
    "    # Date Format\n",
    "    date_format = official_date_report.split(' ')[4].split('-')\n",
    "    # YEAR-MONTH-DAY\n",
    "    official_date_report = datetime.date(int(date_format[2]), int(date_format[1]), int(date_format[0]))\n",
    "except:\n",
    "    official_date_report = bogota_date\n",
    "# Print\n",
    "print('Official Date Report:', official_date_report)"
   ]
  },
  {
   "cell_type": "markdown",
   "metadata": {},
   "source": [
    "---"
   ]
  },
  {
   "cell_type": "markdown",
   "metadata": {},
   "source": [
    "## Datasets"
   ]
  },
  {
   "cell_type": "code",
   "execution_count": 60,
   "metadata": {},
   "outputs": [
    {
     "output_type": "execute_result",
     "data": {
      "text/plain": "          date  total_reported  accum_reported  total_recupered  \\\n60  30/04/2020             296            6466                0   \n61  01/05/2020             500            6966                0   \n62  02/05/2020             279            7245                0   \n63  03/05/2020             423            7668                0   \n64  04/05/2020             305            7973                0   \n\n    accum_recupered  total_deceased  accum_deceased  \n60             1807              15             326  \n61             1807              10             336  \n62             1807              10             346  \n63             1807               8             354  \n64             1807               4             358  ",
      "text/html": "<div>\n<style scoped>\n    .dataframe tbody tr th:only-of-type {\n        vertical-align: middle;\n    }\n\n    .dataframe tbody tr th {\n        vertical-align: top;\n    }\n\n    .dataframe thead th {\n        text-align: right;\n    }\n</style>\n<table border=\"1\" class=\"dataframe\">\n  <thead>\n    <tr style=\"text-align: right;\">\n      <th></th>\n      <th>date</th>\n      <th>total_reported</th>\n      <th>accum_reported</th>\n      <th>total_recupered</th>\n      <th>accum_recupered</th>\n      <th>total_deceased</th>\n      <th>accum_deceased</th>\n    </tr>\n  </thead>\n  <tbody>\n    <tr>\n      <th>60</th>\n      <td>30/04/2020</td>\n      <td>296</td>\n      <td>6466</td>\n      <td>0</td>\n      <td>1807</td>\n      <td>15</td>\n      <td>326</td>\n    </tr>\n    <tr>\n      <th>61</th>\n      <td>01/05/2020</td>\n      <td>500</td>\n      <td>6966</td>\n      <td>0</td>\n      <td>1807</td>\n      <td>10</td>\n      <td>336</td>\n    </tr>\n    <tr>\n      <th>62</th>\n      <td>02/05/2020</td>\n      <td>279</td>\n      <td>7245</td>\n      <td>0</td>\n      <td>1807</td>\n      <td>10</td>\n      <td>346</td>\n    </tr>\n    <tr>\n      <th>63</th>\n      <td>03/05/2020</td>\n      <td>423</td>\n      <td>7668</td>\n      <td>0</td>\n      <td>1807</td>\n      <td>8</td>\n      <td>354</td>\n    </tr>\n    <tr>\n      <th>64</th>\n      <td>04/05/2020</td>\n      <td>305</td>\n      <td>7973</td>\n      <td>0</td>\n      <td>1807</td>\n      <td>4</td>\n      <td>358</td>\n    </tr>\n  </tbody>\n</table>\n</div>"
     },
     "metadata": {},
     "execution_count": 60
    }
   ],
   "source": [
    "# Covid19 Colombia Timeline\n",
    "covid19co_timeline = pd.read_csv(os.path.join(INPUT_DIR, 'covid19co_time_line.csv'))\n",
    "# Show dataframe\n",
    "covid19co_timeline.tail()"
   ]
  },
  {
   "cell_type": "code",
   "execution_count": 61,
   "metadata": {},
   "outputs": [
    {
     "output_type": "execute_result",
     "data": {
      "text/plain": "          date   accum\n60  30/04/2020  104657\n61  01/05/2020  108950\n62  02/05/2020  114602\n63  03/05/2020  118801\n64  04/05/2020  123029",
      "text/html": "<div>\n<style scoped>\n    .dataframe tbody tr th:only-of-type {\n        vertical-align: middle;\n    }\n\n    .dataframe tbody tr th {\n        vertical-align: top;\n    }\n\n    .dataframe thead th {\n        text-align: right;\n    }\n</style>\n<table border=\"1\" class=\"dataframe\">\n  <thead>\n    <tr style=\"text-align: right;\">\n      <th></th>\n      <th>date</th>\n      <th>accum</th>\n    </tr>\n  </thead>\n  <tbody>\n    <tr>\n      <th>60</th>\n      <td>30/04/2020</td>\n      <td>104657</td>\n    </tr>\n    <tr>\n      <th>61</th>\n      <td>01/05/2020</td>\n      <td>108950</td>\n    </tr>\n    <tr>\n      <th>62</th>\n      <td>02/05/2020</td>\n      <td>114602</td>\n    </tr>\n    <tr>\n      <th>63</th>\n      <td>03/05/2020</td>\n      <td>118801</td>\n    </tr>\n    <tr>\n      <th>64</th>\n      <td>04/05/2020</td>\n      <td>123029</td>\n    </tr>\n  </tbody>\n</table>\n</div>"
     },
     "metadata": {},
     "execution_count": 61
    }
   ],
   "source": [
    "# Covid19 Colombia Samples Timeline\n",
    "covid19co_samples_timeline = pd.read_csv(os.path.join(INPUT_DIR, 'covid19co_samples_time_line.csv'))\n",
    "# Show dataframe\n",
    "covid19co_samples_timeline.tail()"
   ]
  },
  {
   "cell_type": "markdown",
   "metadata": {},
   "source": [
    "---"
   ]
  },
  {
   "cell_type": "markdown",
   "metadata": {},
   "source": [
    "## Covid19 Colombia Resume"
   ]
  },
  {
   "cell_type": "code",
   "execution_count": 62,
   "metadata": {},
   "outputs": [
    {
     "output_type": "execute_result",
     "data": {
      "text/plain": "         date total_reported accum_reported total_recovered accum_recovered  \\\n0  04/05/2020            305           7973               0            1807   \n\n  total_deceased accum_deceased accum_samples  \n0              4            358        123029  ",
      "text/html": "<div>\n<style scoped>\n    .dataframe tbody tr th:only-of-type {\n        vertical-align: middle;\n    }\n\n    .dataframe tbody tr th {\n        vertical-align: top;\n    }\n\n    .dataframe thead th {\n        text-align: right;\n    }\n</style>\n<table border=\"1\" class=\"dataframe\">\n  <thead>\n    <tr style=\"text-align: right;\">\n      <th></th>\n      <th>date</th>\n      <th>total_reported</th>\n      <th>accum_reported</th>\n      <th>total_recovered</th>\n      <th>accum_recovered</th>\n      <th>total_deceased</th>\n      <th>accum_deceased</th>\n      <th>accum_samples</th>\n    </tr>\n  </thead>\n  <tbody>\n    <tr>\n      <th>0</th>\n      <td>04/05/2020</td>\n      <td>305</td>\n      <td>7973</td>\n      <td>0</td>\n      <td>1807</td>\n      <td>4</td>\n      <td>358</td>\n      <td>123029</td>\n    </tr>\n  </tbody>\n</table>\n</div>"
     },
     "metadata": {},
     "execution_count": 62
    }
   ],
   "source": [
    "# Total Reported\n",
    "# Accumulated Reported\n",
    "# Total Recovered\n",
    "# Accumulated Recovered\n",
    "# Total Deceased\n",
    "# Accumulated Deceased\n",
    "# Accumulated Samples\n",
    "\n",
    "# Data\n",
    "data_resume = [official_date_report.strftime('%d/%m/%Y')] + covid19co_timeline.iloc[-1].values.tolist()[1:] + covid19co_samples_timeline.iloc[-1].values.tolist()[1:]\n",
    "#print(data_resume)\n",
    "\n",
    "# Dataframe Resume\n",
    "covid19co_resume = pd.DataFrame(columns=['date', 'total_reported', 'accum_reported', 'total_recovered', 'accum_recovered', 'total_deceased', 'accum_deceased', 'accum_samples'], data=np.array([data_resume]))\n",
    "\n",
    "# Show dataframe\n",
    "covid19co_resume.head()"
   ]
  },
  {
   "cell_type": "code",
   "execution_count": 63,
   "metadata": {},
   "outputs": [],
   "source": [
    "# Save dataframe\n",
    "covid19co_resume.to_csv(os.path.join(OUTPUT_DIR, 'covid19co_resume.csv'), index=False)"
   ]
  },
  {
   "cell_type": "code",
   "execution_count": null,
   "metadata": {},
   "outputs": [],
   "source": []
  }
 ],
 "metadata": {
  "language_info": {
   "codemirror_mode": {
    "name": "ipython",
    "version": 3
   },
   "file_extension": ".py",
   "mimetype": "text/x-python",
   "name": "python",
   "nbconvert_exporter": "python",
   "pygments_lexer": "ipython3",
   "version": "3.6.9-final"
  },
  "orig_nbformat": 2,
  "kernelspec": {
   "name": "python36964bitvenvvenvaf7265480f1047599344cd6a9a2c95be",
   "display_name": "Python 3.6.9 64-bit ('.venv': venv)"
  }
 },
 "nbformat": 4,
 "nbformat_minor": 2
}