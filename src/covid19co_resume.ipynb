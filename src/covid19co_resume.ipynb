{
 "cells": [
  {
   "cell_type": "code",
   "execution_count": 1,
   "metadata": {},
   "outputs": [],
   "source": [
    "# This Python 3 environment comes with many helpful analytics libraries installed\n",
    "# It is defined by the kaggle/python docker image: https://github.com/kaggle/docker-python\n",
    "# For example, here's several helpful packages to load in \n",
    "\n",
    "# Dependencies\n",
    "import numpy as np\n",
    "import pandas as pd\n",
    "import requests\n",
    "import unidecode\n",
    "import datetime\n",
    "import dateutil\n",
    "import subprocess\n",
    "import sys\n",
    "import json\n",
    "import tempfile\n",
    "import os\n",
    "import re\n",
    "\n",
    "# Install missing dependencies\n",
    "def install(package):\n",
    "    subprocess.check_call([sys.executable, \"-m\", \"pip\", \"install\", package])\n",
    "\n",
    "# Input data files are available in the \"../input/\" directory.\n",
    "# For example, running this (by clicking run or pressing Shift+Enter) will list all files under the input directory\n",
    "\n",
    "#for dirname, _, filenames in os.walk('/kaggle/input'):\n",
    "#    for filename in filenames:\n",
    "#        print(os.path.join(dirname, filename))\n",
    "\n",
    "# Any results you write to the current directory are saved as output."
   ]
  },
  {
   "cell_type": "markdown",
   "metadata": {},
   "source": [
    "---"
   ]
  },
  {
   "cell_type": "markdown",
   "metadata": {},
   "source": [
    "## Colombia Covid19 Resume\n",
    "This Notebook creates a new resume dataset, It will be used to post tweets on Twitter each time when there are new updates from datasets in [Kaggle Dataset](https://www.kaggle.com/sebaxtian/covid19co).\n",
    "\n",
    "Dataset obtained from Kaggle after [Colombia Covid19 Pipeline](https://sebaxtian.github.io/colombia_covid_19_pipe) process run and update covid19co Dataset.\n",
    "\n",
    "The number of new cases is increasing day by day around the world.\n",
    "\n",
    "You can get the official dataset here: [INS - Official Report](https://www.datos.gov.co/Salud-y-Protecci-n-Social/Casos-positivos-de-COVID-19-en-Colombia/gt2j-8ykr)"
   ]
  },
  {
   "cell_type": "markdown",
   "metadata": {},
   "source": [
    "---"
   ]
  },
  {
   "cell_type": "markdown",
   "metadata": {},
   "source": [
    "## Datasources"
   ]
  },
  {
   "cell_type": "code",
   "execution_count": 3,
   "metadata": {},
   "outputs": [],
   "source": [
    "# Input data files are available in the \"../kaggle/\" directory.\n",
    "INPUT_DIR = './'\n",
    "if os.path.split(os.path.abspath('.'))[-1] == 'src':\n",
    "    INPUT_DIR = '../kaggle'\n",
    "# Output data files are available in the \"../input/\" directory.\n",
    "OUTPUT_DIR = './'\n",
    "if os.path.split(os.path.abspath('.'))[-1] == 'src':\n",
    "    OUTPUT_DIR = '../input'"
   ]
  },
  {
   "cell_type": "markdown",
   "metadata": {},
   "source": [
    "---"
   ]
  },
  {
   "cell_type": "markdown",
   "metadata": {},
   "source": [
    "## Datasets"
   ]
  },
  {
   "cell_type": "code",
   "execution_count": 4,
   "metadata": {},
   "outputs": [
    {
     "output_type": "execute_result",
     "data": {
      "text/plain": "          date  total_reported  accum_reported  total_recupered  \\\n61  01/05/2020             500            6966                0   \n62  02/05/2020             279            7245                0   \n63  03/05/2020             423            7668                0   \n64  04/05/2020             305            7973                0   \n65  05/05/2020               0            7973                0   \n\n    accum_recupered  total_deceased  accum_deceased  \n61             1807              10             336  \n62             1807              10             346  \n63             1807               8             354  \n64             1807               4             358  \n65             1807               0             358  ",
      "text/html": "<div>\n<style scoped>\n    .dataframe tbody tr th:only-of-type {\n        vertical-align: middle;\n    }\n\n    .dataframe tbody tr th {\n        vertical-align: top;\n    }\n\n    .dataframe thead th {\n        text-align: right;\n    }\n</style>\n<table border=\"1\" class=\"dataframe\">\n  <thead>\n    <tr style=\"text-align: right;\">\n      <th></th>\n      <th>date</th>\n      <th>total_reported</th>\n      <th>accum_reported</th>\n      <th>total_recupered</th>\n      <th>accum_recupered</th>\n      <th>total_deceased</th>\n      <th>accum_deceased</th>\n    </tr>\n  </thead>\n  <tbody>\n    <tr>\n      <th>61</th>\n      <td>01/05/2020</td>\n      <td>500</td>\n      <td>6966</td>\n      <td>0</td>\n      <td>1807</td>\n      <td>10</td>\n      <td>336</td>\n    </tr>\n    <tr>\n      <th>62</th>\n      <td>02/05/2020</td>\n      <td>279</td>\n      <td>7245</td>\n      <td>0</td>\n      <td>1807</td>\n      <td>10</td>\n      <td>346</td>\n    </tr>\n    <tr>\n      <th>63</th>\n      <td>03/05/2020</td>\n      <td>423</td>\n      <td>7668</td>\n      <td>0</td>\n      <td>1807</td>\n      <td>8</td>\n      <td>354</td>\n    </tr>\n    <tr>\n      <th>64</th>\n      <td>04/05/2020</td>\n      <td>305</td>\n      <td>7973</td>\n      <td>0</td>\n      <td>1807</td>\n      <td>4</td>\n      <td>358</td>\n    </tr>\n    <tr>\n      <th>65</th>\n      <td>05/05/2020</td>\n      <td>0</td>\n      <td>7973</td>\n      <td>0</td>\n      <td>1807</td>\n      <td>0</td>\n      <td>358</td>\n    </tr>\n  </tbody>\n</table>\n</div>"
     },
     "metadata": {},
     "execution_count": 4
    }
   ],
   "source": [
    "# Covid19 Colombia Timeline\n",
    "covid19co_timeline = pd.read_csv(os.path.join(INPUT_DIR, 'covid19co_time_line.csv'))\n",
    "# Show dataframe\n",
    "covid19co_timeline.tail()"
   ]
  },
  {
   "cell_type": "code",
   "execution_count": 5,
   "metadata": {},
   "outputs": [
    {
     "output_type": "execute_result",
     "data": {
      "text/plain": "          date   accum\n61  01/05/2020  108950\n62  02/05/2020  114602\n63  03/05/2020  118801\n64  04/05/2020  123029\n65  05/05/2020       0",
      "text/html": "<div>\n<style scoped>\n    .dataframe tbody tr th:only-of-type {\n        vertical-align: middle;\n    }\n\n    .dataframe tbody tr th {\n        vertical-align: top;\n    }\n\n    .dataframe thead th {\n        text-align: right;\n    }\n</style>\n<table border=\"1\" class=\"dataframe\">\n  <thead>\n    <tr style=\"text-align: right;\">\n      <th></th>\n      <th>date</th>\n      <th>accum</th>\n    </tr>\n  </thead>\n  <tbody>\n    <tr>\n      <th>61</th>\n      <td>01/05/2020</td>\n      <td>108950</td>\n    </tr>\n    <tr>\n      <th>62</th>\n      <td>02/05/2020</td>\n      <td>114602</td>\n    </tr>\n    <tr>\n      <th>63</th>\n      <td>03/05/2020</td>\n      <td>118801</td>\n    </tr>\n    <tr>\n      <th>64</th>\n      <td>04/05/2020</td>\n      <td>123029</td>\n    </tr>\n    <tr>\n      <th>65</th>\n      <td>05/05/2020</td>\n      <td>0</td>\n    </tr>\n  </tbody>\n</table>\n</div>"
     },
     "metadata": {},
     "execution_count": 5
    }
   ],
   "source": [
    "# Covid19 Colombia Samples Timeline\n",
    "covid19co_samples_timeline = pd.read_csv(os.path.join(INPUT_DIR, 'covid19co_samples_time_line.csv'))\n",
    "# Show dataframe\n",
    "covid19co_samples_timeline.tail()"
   ]
  },
  {
   "cell_type": "markdown",
   "metadata": {},
   "source": [
    "---"
   ]
  },
  {
   "cell_type": "markdown",
   "metadata": {},
   "source": [
    "## Covid19 Colombia Resume"
   ]
  },
  {
   "cell_type": "code",
   "execution_count": 6,
   "metadata": {},
   "outputs": [
    {
     "output_type": "execute_result",
     "data": {
      "text/plain": "Empty DataFrame\nColumns: [date, total_reported, accum_reported, total_recovered, accum_recovered, total_deceased, accum_deceased, accum_samples]\nIndex: []",
      "text/html": "<div>\n<style scoped>\n    .dataframe tbody tr th:only-of-type {\n        vertical-align: middle;\n    }\n\n    .dataframe tbody tr th {\n        vertical-align: top;\n    }\n\n    .dataframe thead th {\n        text-align: right;\n    }\n</style>\n<table border=\"1\" class=\"dataframe\">\n  <thead>\n    <tr style=\"text-align: right;\">\n      <th></th>\n      <th>date</th>\n      <th>total_reported</th>\n      <th>accum_reported</th>\n      <th>total_recovered</th>\n      <th>accum_recovered</th>\n      <th>total_deceased</th>\n      <th>accum_deceased</th>\n      <th>accum_samples</th>\n    </tr>\n  </thead>\n  <tbody>\n  </tbody>\n</table>\n</div>"
     },
     "metadata": {},
     "execution_count": 6
    }
   ],
   "source": [
    "# Total Reported\n",
    "# Accumulated Reported\n",
    "# Total Recovered\n",
    "# Accumulated Recovered\n",
    "# Total Deceased\n",
    "# Accumulated Deceased\n",
    "# Accumulated Samples\n",
    "covid19co_resume = pd.DataFrame(columns=['date', 'total_reported', 'accum_reported', 'total_recovered', 'accum_recovered', 'total_deceased', 'accum_deceased', 'accum_samples'])\n",
    "# Show dataframe\n",
    "covid19co_resume.head()"
   ]
  },
  {
   "cell_type": "code",
   "execution_count": null,
   "metadata": {},
   "outputs": [],
   "source": []
  }
 ],
 "metadata": {
  "language_info": {
   "codemirror_mode": {
    "name": "ipython",
    "version": 3
   },
   "file_extension": ".py",
   "mimetype": "text/x-python",
   "name": "python",
   "nbconvert_exporter": "python",
   "pygments_lexer": "ipython3",
   "version": "3.6.9-final"
  },
  "orig_nbformat": 2,
  "kernelspec": {
   "name": "python36964bitvenvvenvaf7265480f1047599344cd6a9a2c95be",
   "display_name": "Python 3.6.9 64-bit ('.venv': venv)"
  }
 },
 "nbformat": 4,
 "nbformat_minor": 2
}